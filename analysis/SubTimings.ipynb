{
 "cells": [
  {
   "cell_type": "code",
   "execution_count": 1,
   "metadata": {},
   "outputs": [],
   "source": [
    "from os import chdir\n",
    "chdir('..')"
   ]
  },
  {
   "cell_type": "code",
   "execution_count": 29,
   "metadata": {},
   "outputs": [
    {
     "data": {
      "image/png": "[encoded data removed]",
      "text/plain": [
       "<Figure size 720x72 with 1 Axes>"
      ]
     },
     "metadata": {},
     "output_type": "display_data"
    }
   ],
   "source": [
    "import matplotlib.pyplot as plt\n",
    "from matplotlib.patches import Arc\n",
    "import matplotlib\n",
    "import math\n",
    "import seaborn as sns\n",
    "import pandas as pd\n",
    "import numpy as np\n",
    "from polylidar import extractPlanesAndPolygons\n",
    "from shapely.geometry import LineString, asPolygon\n",
    "from shapely.affinity import scale, translate\n",
    "from os import path\n",
    "from concave_evaluation.helpers import fake_building, plot_line, BLUE, GRAY, plot_arrow, scale_axes, plot_poly, load_polygon, get_max_bounds_polys, measure_convexity_simple\n",
    "%matplotlib inline\n",
    "sns.set(font_scale=1)  # crazy big\n",
    "# sns.set_style(\"white\")\n",
    "current_palette = sns.color_palette()\n",
    "sns.palplot(current_palette)"
   ]
  },
  {
   "cell_type": "markdown",
   "metadata": {},
   "source": [
    "## Subtimings\n",
    "\n",
    "These are the timings for all concave hull extraction algorithms which have a triangulation step. I'm only shwowing these algorithms together because its (somewhat) easier to compare or relate substeps of the algorihtms. Though they do not line up perfectly.\n",
    "\n",
    "### CGAL\n",
    "\n",
    "\n",
    "**Triangulation** - Uses CGAL Delaunay Triangulation. Uses CGAL methods for robust geometric predicates.\n",
    "\n",
    "**Shape Creation** - Filters triangle faces, edges, and vertices by the alpha radius. It also classifies each of these objects. Datastructures to find the triangles, edges, and vertices of the alpha shape are created. \n",
    "\n",
    "**Polygon Extraction** - None. The final output of CGAL Alpha shapes is simply an the unordered list of edges of the alpha shapes. It is possible to turn this into a polgygon but no implementation that I know of is provided by CGAL. Such an implementation will also need to handle the creation of mulitpolygon output as well as holes inside individual polygons as perfomed by both Polylidar and Spatialite.\n",
    "\n",
    "### Polylidar \n",
    "\n",
    "\n",
    "**Triangulation** - Uses Delaunator for triangulation. Uses adaptive floating point arithmetic for robust geometric predicates from https://www.cs.cmu.edu/~quake/robust.html.\n",
    "\n",
    "**Shape Extraction** - Filters triangles by alpha radius. Executes region growing which creates disparate sets of spatially connected triangles. Each set is called a region (called planes in 3D). \n",
    "\n",
    "**Polygon Extraction** - For each region, the polygonal representaton is extracted. This occurs by identifying boundary edges, choosing a starting edge on the hull,, carefully walking the hull (handle edge cases when hole edges and border edges share vertices), and finally forming a linear ring representing the exterior hull. Interior holes are also extracted (once again, carefully handling edge cases).\n",
    "\n",
    "### Spatialite\n",
    "\n",
    "**Triangulation** - Uses GEOS to perform triangulation. Uses robust geometric predicated built into GEOS.\n",
    "\n",
    "**Shape Extraction** - Compute edge length statistics of all triangle edges, prudcing a $\\mu_l$ and $\\sigma_l$. Filters any triangle who has an edge $l > \\mu_l + factor \\cdot \\sigma_l$ \n",
    "\n",
    "**Polygon Extraction** - Uses GEOS to compute the union of all triangles to generate the polygonal representation of the the all remaining triangles.  "
   ]
  },
  {
   "cell_type": "code",
   "execution_count": 3,
   "metadata": {},
   "outputs": [],
   "source": [
    "timings_cgal = [[46.862,160.001],[44.394,158.039],[44.468,152.339],[44.405,152.891],[44.374,152.626],[44.388,154.035],[44.466,153.964],[44.466,153.671],[44.389,153.933],[44.36,152.299],[44.444,153.398],[44.37,153.527],[44.357,153.021],[44.384,154.086],[44.462,153.508],[44.59,153.483],[44.444,153.228],[44.539,154.614],[44.462,152.466],[44.363,153.76],[44.449,154.291],[44.472,154.772],[44.573,152.665],[44.726,154.413],[44.477,154.577],[44.494,155.103],[44.508,155.043],[44.474,153.003],[44.53,153.702],[44.4,154.183]]\n",
    "timings_polylidar = [[36.12799835205078, 4.36299991607666, 0.9810000061988831], [35.928001403808594, 4.394000053405762, 1.027999997138977], [36.665000915527344, 4.3470001220703125, 1.059000015258789], [35.79399871826172, 4.316999912261963, 0.9760000109672546], [35.8390007019043, 4.35699987411499, 1.1080000400543213], [36.36899948120117, 4.396999835968018, 0.9990000128746033], [35.97100067138672, 4.35699987411499, 0.9700000286102295], [35.84700012207031, 4.359000205993652, 0.9929999709129333], [35.72999954223633, 4.355000019073486, 0.9779999852180481], [35.779998779296875, 4.335999965667725, 0.9580000042915344], [36.327999114990234, 4.354000091552734, 0.9649999737739563], [35.77000045776367, 4.429999828338623, 0.9819999933242798], [36.29100036621094, 4.381999969482422, 0.972000002861023], [36.444000244140625, 4.3470001220703125, 0.9639999866485596], [35.87900161743164, 4.372000217437744, 0.9879999756813049], [35.93000030517578, 4.382999897003174, 0.9760000109672546], [35.95600128173828, 4.414999961853027, 0.9729999899864197], [36.525001525878906, 4.375999927520752, 0.9789999723434448], [35.819000244140625, 4.373000144958496, 0.9829999804496765], [36.13800048828125, 4.375999927520752, 0.9769999980926514], [36.43600082397461, 4.366000175476074, 0.9679999947547913], [35.79999923706055, 4.392000198364258, 0.9700000286102295], [35.6879997253418, 4.366000175476074, 0.9860000014305115], [35.70100021362305, 4.372000217437744, 0.9879999756813049], [36.05099868774414, 4.34499979019165, 0.9679999947547913], [35.75400161743164, 4.3379998207092285, 0.972000002861023], [36.01100158691406, 4.3470001220703125, 0.9679999947547913], [35.724998474121094, 4.35099983215332, 0.9810000061988831], [36.13600158691406, 4.339000225067139, 0.9700000286102295], [36.02899932861328, 4.368000030517578, 0.9879999756813049]]"
   ]
  },
  {
   "cell_type": "code",
   "execution_count": 18,
   "metadata": {},
   "outputs": [
    {
     "data": {
      "text/html": [
       "<div>\n",
       "<style scoped>\n",
       "    .dataframe tbody tr th:only-of-type {\n",
       "        vertical-align: middle;\n",
       "    }\n",
       "\n",
       "    .dataframe tbody tr th {\n",
       "        vertical-align: top;\n",
       "    }\n",
       "\n",
       "    .dataframe thead th {\n",
       "        text-align: right;\n",
       "    }\n",
       "</style>\n",
       "<table border=\"1\" class=\"dataframe\">\n",
       "  <thead>\n",
       "    <tr style=\"text-align: right;\">\n",
       "      <th></th>\n",
       "      <th>algorithm</th>\n",
       "      <th>variable</th>\n",
       "      <th>time</th>\n",
       "    </tr>\n",
       "  </thead>\n",
       "  <tbody>\n",
       "    <tr>\n",
       "      <th>0</th>\n",
       "      <td>polylidar</td>\n",
       "      <td>triangulation</td>\n",
       "      <td>36.127998</td>\n",
       "    </tr>\n",
       "    <tr>\n",
       "      <th>1</th>\n",
       "      <td>polylidar</td>\n",
       "      <td>triangulation</td>\n",
       "      <td>35.928001</td>\n",
       "    </tr>\n",
       "    <tr>\n",
       "      <th>2</th>\n",
       "      <td>polylidar</td>\n",
       "      <td>triangulation</td>\n",
       "      <td>36.665001</td>\n",
       "    </tr>\n",
       "    <tr>\n",
       "      <th>3</th>\n",
       "      <td>polylidar</td>\n",
       "      <td>triangulation</td>\n",
       "      <td>35.793999</td>\n",
       "    </tr>\n",
       "    <tr>\n",
       "      <th>4</th>\n",
       "      <td>polylidar</td>\n",
       "      <td>triangulation</td>\n",
       "      <td>35.839001</td>\n",
       "    </tr>\n",
       "    <tr>\n",
       "      <th>...</th>\n",
       "      <td>...</td>\n",
       "      <td>...</td>\n",
       "      <td>...</td>\n",
       "    </tr>\n",
       "    <tr>\n",
       "      <th>175</th>\n",
       "      <td>cgal</td>\n",
       "      <td>polygon extraction</td>\n",
       "      <td>NaN</td>\n",
       "    </tr>\n",
       "    <tr>\n",
       "      <th>176</th>\n",
       "      <td>cgal</td>\n",
       "      <td>polygon extraction</td>\n",
       "      <td>NaN</td>\n",
       "    </tr>\n",
       "    <tr>\n",
       "      <th>177</th>\n",
       "      <td>cgal</td>\n",
       "      <td>polygon extraction</td>\n",
       "      <td>NaN</td>\n",
       "    </tr>\n",
       "    <tr>\n",
       "      <th>178</th>\n",
       "      <td>cgal</td>\n",
       "      <td>polygon extraction</td>\n",
       "      <td>NaN</td>\n",
       "    </tr>\n",
       "    <tr>\n",
       "      <th>179</th>\n",
       "      <td>cgal</td>\n",
       "      <td>polygon extraction</td>\n",
       "      <td>NaN</td>\n",
       "    </tr>\n",
       "  </tbody>\n",
       "</table>\n",
       "<p>180 rows × 3 columns</p>\n",
       "</div>"
      ],
      "text/plain": [
       "     algorithm            variable       time\n",
       "0    polylidar       triangulation  36.127998\n",
       "1    polylidar       triangulation  35.928001\n",
       "2    polylidar       triangulation  36.665001\n",
       "3    polylidar       triangulation  35.793999\n",
       "4    polylidar       triangulation  35.839001\n",
       "..         ...                 ...        ...\n",
       "175       cgal  polygon extraction        NaN\n",
       "176       cgal  polygon extraction        NaN\n",
       "177       cgal  polygon extraction        NaN\n",
       "178       cgal  polygon extraction        NaN\n",
       "179       cgal  polygon extraction        NaN\n",
       "\n",
       "[180 rows x 3 columns]"
      ]
     },
     "execution_count": 18,
     "metadata": {},
     "output_type": "execute_result"
    }
   ],
   "source": [
    "df_cgal = pd.DataFrame(timings_cgal, columns=['triangulation', 'shape extraction'])\n",
    "df_cgal['polygon extraction'] =  np.nan\n",
    "df_cgal['algorithm'] = 'cgal'\n",
    "\n",
    "df_pl = pd.DataFrame(timings_polylidar, columns=['triangulation', 'shape extraction', 'polygon extraction'])\n",
    "df_pl['algorithm'] = 'polylidar'\n",
    "\n",
    "df = pd.concat([df_pl, df_cgal], axis=0)\n",
    "\n",
    "df_melt = pd.melt(df,\n",
    "               id_vars=['algorithm'], value_vars=['triangulation', 'shape extraction', 'polygon extraction'],\n",
    "               value_name='time')\n",
    "df_melt"
   ]
  },
  {
   "cell_type": "code",
   "execution_count": 31,
   "metadata": {},
   "outputs": [
    {
     "data": {
      "image/png": "[encoded data removed]",
      "text/plain": [
       "<Figure size 432x288 with 1 Axes>"
      ]
     },
     "metadata": {},
     "output_type": "display_data"
    }
   ],
   "source": [
    "ax = sns.barplot(x=\"algorithm\", y=\"time\",\n",
    "            hue=\"variable\", data=df_melt)\n",
    "# ax.set(yscale=\"log\")"
   ]
  }
 ],
 "metadata": {
  "kernelspec": {
   "display_name": "Python 3",
   "language": "python",
   "name": "python3"
  },
  "language_info": {
   "codemirror_mode": {
    "name": "ipython",
    "version": 3
   },
   "file_extension": ".py",
   "mimetype": "text/x-python",
   "name": "python",
   "nbconvert_exporter": "python",
   "pygments_lexer": "ipython3",
   "version": "3.7.5"
  }
 },
 "nbformat": 4,
 "nbformat_minor": 2
}
