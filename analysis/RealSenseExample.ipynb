{
 "cells": [
  {
   "cell_type": "code",
   "execution_count": 1,
   "metadata": {},
   "outputs": [],
   "source": [
    "from os import chdir\n",
    "chdir('..')"
   ]
  },
  {
   "cell_type": "code",
   "execution_count": 4,
   "metadata": {},
   "outputs": [],
   "source": [
    "import matplotlib.pyplot as plt\n",
    "from matplotlib.patches import Arc\n",
    "import matplotlib\n",
    "import math\n",
    "import seaborn as sns\n",
    "import pandas as pd\n",
    "import numpy as np\n",
    "from polylidar import extractPlanesAndPolygons\n",
    "from shapely.geometry import LineString, asPolygon\n",
    "from shapely.affinity import scale, translate\n",
    "from os import path\n",
    "\n",
    "from concave_evaluation.helpers import fake_building, plot_line, BLUE, GRAY, plot_arrow, scale_axes, plot_poly, load_polygon, get_max_bounds_polys, measure_convexity_simple\n",
    "%matplotlib inline\n",
    "sns.set(font_scale=1)  # crazy big"
   ]
  },
  {
   "cell_type": "code",
   "execution_count": 22,
   "metadata": {},
   "outputs": [],
   "source": [
    "file_path_dir = './test_fixtures/realsense'\n",
    "file_name = 'raw_points.txt'\n",
    "pc = np.loadtxt(path.join(file_path_dir, file_name))\n",
    "# import open3d as o3d\n",
    "# pcd = o3d.geometry.PointCloud(o3d.utility.Vector3dVector(pc))\n",
    "# o3d.visualization.draw_geometries([pcd])"
   ]
  },
  {
   "cell_type": "code",
   "execution_count": 23,
   "metadata": {},
   "outputs": [],
   "source": [
    "mask = pc[:,2] < -1.0\n",
    "pc_plane_only = pc[mask]\n",
    "np.savetxt(path.join(file_path_dir, 'realsense_points.txt'), pc_plane_only[:, :2])"
   ]
  }
 ],
 "metadata": {
  "kernelspec": {
   "display_name": "Python 3",
   "language": "python",
   "name": "python3"
  },
  "language_info": {
   "codemirror_mode": {
    "name": "ipython",
    "version": 3
   },
   "file_extension": ".py",
   "mimetype": "text/x-python",
   "name": "python",
   "nbconvert_exporter": "python",
   "pygments_lexer": "ipython3",
   "version": "3.7.5"
  }
 },
 "nbformat": 4,
 "nbformat_minor": 2
}
