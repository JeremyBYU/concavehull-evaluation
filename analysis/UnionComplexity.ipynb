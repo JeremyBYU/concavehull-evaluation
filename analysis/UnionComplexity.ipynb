{
 "cells": [
  {
   "cell_type": "code",
   "execution_count": 1,
   "metadata": {},
   "outputs": [],
   "source": [
    "from os import chdir\n",
    "chdir('..')"
   ]
  },
  {
   "cell_type": "code",
   "execution_count": 2,
   "metadata": {},
   "outputs": [],
   "source": [
    "import matplotlib.pyplot as plt\n",
    "import math\n",
    "import seaborn as sns\n",
    "import pandas as pd\n",
    "import time\n",
    "import numpy as np\n",
    "from polylidar import extractPlanesAndPolygons\n",
    "from shapely.geometry import LineString, Polygon, asPolygon\n",
    "from shapely.ops import cascaded_union, unary_union\n",
    "from shapely.affinity import scale\n",
    "from scipy.spatial import Delaunay\n",
    "\n",
    "from concave_evaluation.helpers import fake_building, plot_line, BLUE, GRAY, plot_arrow, scale_axes\n",
    "%matplotlib notebook\n",
    "sns.set()\n",
    "sns.set_style(\"whitegrid\")"
   ]
  },
  {
   "cell_type": "code",
   "execution_count": 3,
   "metadata": {},
   "outputs": [],
   "source": [
    "def gen_polygons(n=100, scale = 10):\n",
    "    points = np.random.randn(n,2)* scale\n",
    "    tri = Delaunay(points)\n",
    "    triangles = tri.points[tri.simplices]\n",
    "    poly_triangles = []\n",
    "    for i in range(triangles.shape[0]):\n",
    "        points_ = triangles[i, :, :]\n",
    "        poly  = asPolygon(points_)\n",
    "        poly_triangles.append(poly)\n",
    "    return poly_triangles, points\n",
    "\n",
    "def union_timings(n_val=[1000, 2000, 4000, 8000, 16000, 32000]):\n",
    "    records = []\n",
    "    for n in n_val:\n",
    "        poly_triangles, points = gen_polygons(n)\n",
    "        t1 = time.time()\n",
    "#         print(len(poly_triangles))\n",
    "        cascaded_union(poly_triangles)\n",
    "        elapsed = time.time() - t1\n",
    "        records.append(dict(times=elapsed, n=n))\n",
    "    return records\n",
    "\n",
    "records = union_timings()\n"
   ]
  },
  {
   "cell_type": "code",
   "execution_count": 4,
   "metadata": {},
   "outputs": [
    {
     "name": "stdout",
     "output_type": "stream",
     "text": [
      "16.8 ms ± 100 µs per loop (mean ± std. dev. of 7 runs, 100 loops each)\n"
     ]
    }
   ],
   "source": [
    "# a, b = gen_polygons(n=50)\n",
    "# %timeit unary_union(a)"
   ]
  },
  {
   "cell_type": "code",
   "execution_count": 5,
   "metadata": {},
   "outputs": [
    {
     "data": {
      "text/plain": [
       "<matplotlib.axes._subplots.AxesSubplot at 0x7fac5e578940>"
      ]
     },
     "execution_count": 5,
     "metadata": {},
     "output_type": "execute_result"
    },
    {
     "data": {
      "image/png": "[encoded data removed]",
      "text/plain": [
       "<Figure size 432x288 with 1 Axes>"
      ]
     },
     "metadata": {
      "needs_background": "light"
     },
     "output_type": "display_data"
    }
   ],
   "source": [
    "pd.DataFrame.from_records(records).plot(x='n', y='times')"
   ]
  }
 ],
 "metadata": {
  "kernelspec": {
   "display_name": "Python 3",
   "language": "python",
   "name": "python3"
  },
  "language_info": {
   "codemirror_mode": {
    "name": "ipython",
    "version": 3
   },
   "file_extension": ".py",
   "mimetype": "text/x-python",
   "name": "python",
   "nbconvert_exporter": "python",
   "pygments_lexer": "ipython3",
   "version": "3.6.8"
  }
 },
 "nbformat": 4,
 "nbformat_minor": 2
}
